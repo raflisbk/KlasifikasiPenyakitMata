{
  "cells": [
    {
      "cell_type": "markdown",
      "metadata": {
        "id": "Fqrio5RtcghO"
      },
      "source": [
        "###menyambungkan gdrive ke colab"
      ]
    },
    {
      "cell_type": "code",
      "execution_count": null,
      "metadata": {
        "colab": {
          "background_save": true
        },
        "id": "-QRP1UwgFiQX",
        "outputId": "c76e0a3d-39ed-4bf0-897b-da56339fcc4a"
      },
      "outputs": [
        {
          "name": "stdout",
          "output_type": "stream",
          "text": [
            "Mounted at /content/gdrive\n"
          ]
        }
      ],
      "source": [
        "from google.colab import drive\n",
        "drive.mount('/content/gdrive')"
      ]
    },
    {
      "cell_type": "markdown",
      "metadata": {
        "id": "bYRAUuNya46L"
      },
      "source": [
        "###import dataset"
      ]
    },
    {
      "cell_type": "code",
      "execution_count": null,
      "metadata": {
        "colab": {
          "background_save": true
        },
        "id": "DK7skR1QFc79",
        "scrolled": true
      },
      "outputs": [],
      "source": [
        "import numpy as np # linear algebra\n",
        "import pandas as pd # data processing, CSV file I/O (e.g. pd.read_csv)\n",
        "\n",
        "images = []\n",
        "label = []\n",
        "import os\n",
        "for dirname, _, filenames in os.walk('/content/gdrive/MyDrive/Colab Notebooks/datasetraden/'):\n",
        "    for filename in filenames:\n",
        "        images.append(os.path.join(filename).split('/')[-1])\n",
        "        label.append(os.path.join(dirname).split('/')[-1])"
      ]
    },
    {
      "cell_type": "markdown",
      "metadata": {
        "id": "iYgUi3_La8OL"
      },
      "source": [
        "###import library yang akan digunakan"
      ]
    },
    {
      "cell_type": "code",
      "execution_count": null,
      "metadata": {
        "colab": {
          "background_save": true
        },
        "id": "4tS7SOaoFc8L"
      },
      "outputs": [],
      "source": [
        "import torch\n",
        "import torchvision\n",
        "import seaborn as sns\n",
        "import torch.nn as nn\n",
        "import matplotlib.pyplot as plt\n",
        "from torch.utils.data import Dataset, DataLoader\n",
        "from sklearn.model_selection import train_test_split\n",
        "from torchvision import transforms as T\n",
        "from PIL import Image\n",
        "import random\n",
        "import time\n",
        "from tqdm.notebook import tqdm\n",
        "from torch.nn import functional as F\n",
        "from sklearn.metrics import confusion_matrix, classification_report\n",
        "import seaborn as sns\n",
        "\n",
        "device = torch.device('cuda' if torch.cuda.is_available() else 'cpu')"
      ]
    },
    {
      "cell_type": "markdown",
      "metadata": {
        "id": "-DitddWTbJ5_"
      },
      "source": [
        "###memperlihatkan dataset dan label"
      ]
    },
    {
      "cell_type": "code",
      "execution_count": null,
      "metadata": {
        "colab": {
          "background_save": true
        },
        "id": "T7W1BddDFc8O",
        "outputId": "206c7151-e787-4d67-bf01-886730146eb4"
      },
      "outputs": [
        {
          "data": {
            "application/vnd.google.colaboratory.intrinsic+json": {
              "summary": "{\n  \"name\": \"df\",\n  \"rows\": 4000,\n  \"fields\": [\n    {\n      \"column\": \"image\",\n      \"properties\": {\n        \"dtype\": \"string\",\n        \"num_unique_values\": 3998,\n        \"samples\": [\n          \"3155_right.jpg\",\n          \"129_left (398).jpg\",\n          \"3221_left.jpg\"\n        ],\n        \"semantic_type\": \"\",\n        \"description\": \"\"\n      }\n    },\n    {\n      \"column\": \"label\",\n      \"properties\": {\n        \"dtype\": \"category\",\n        \"num_unique_values\": 4,\n        \"samples\": [\n          \"normal\",\n          \"diabetic_retinopathy\",\n          \"cataract\"\n        ],\n        \"semantic_type\": \"\",\n        \"description\": \"\"\n      }\n    }\n  ]\n}",
              "type": "dataframe",
              "variable_name": "df"
            },
            "text/html": [
              "\n",
              "  <div id=\"df-eb1c1510-326e-4b9c-b9a6-83455c29d88d\" class=\"colab-df-container\">\n",
              "    <div>\n",
              "<style scoped>\n",
              "    .dataframe tbody tr th:only-of-type {\n",
              "        vertical-align: middle;\n",
              "    }\n",
              "\n",
              "    .dataframe tbody tr th {\n",
              "        vertical-align: top;\n",
              "    }\n",
              "\n",
              "    .dataframe thead th {\n",
              "        text-align: right;\n",
              "    }\n",
              "</style>\n",
              "<table border=\"1\" class=\"dataframe\">\n",
              "  <thead>\n",
              "    <tr style=\"text-align: right;\">\n",
              "      <th></th>\n",
              "      <th>image</th>\n",
              "      <th>label</th>\n",
              "    </tr>\n",
              "  </thead>\n",
              "  <tbody>\n",
              "    <tr>\n",
              "      <th>0</th>\n",
              "      <td>103_left.jpg</td>\n",
              "      <td>cataract</td>\n",
              "    </tr>\n",
              "    <tr>\n",
              "      <th>1</th>\n",
              "      <td>0_left.jpg</td>\n",
              "      <td>cataract</td>\n",
              "    </tr>\n",
              "    <tr>\n",
              "      <th>2</th>\n",
              "      <td>2200_left.jpg</td>\n",
              "      <td>cataract</td>\n",
              "    </tr>\n",
              "    <tr>\n",
              "      <th>3</th>\n",
              "      <td>2101_right.jpg</td>\n",
              "      <td>cataract</td>\n",
              "    </tr>\n",
              "    <tr>\n",
              "      <th>4</th>\n",
              "      <td>2232_right.jpg</td>\n",
              "      <td>cataract</td>\n",
              "    </tr>\n",
              "    <tr>\n",
              "      <th>...</th>\n",
              "      <td>...</td>\n",
              "      <td>...</td>\n",
              "    </tr>\n",
              "    <tr>\n",
              "      <th>3995</th>\n",
              "      <td>129_left (719).jpg</td>\n",
              "      <td>diabetic_retinopathy</td>\n",
              "    </tr>\n",
              "    <tr>\n",
              "      <th>3996</th>\n",
              "      <td>129_left (837).jpg</td>\n",
              "      <td>diabetic_retinopathy</td>\n",
              "    </tr>\n",
              "    <tr>\n",
              "      <th>3997</th>\n",
              "      <td>129_left (11).jpg</td>\n",
              "      <td>diabetic_retinopathy</td>\n",
              "    </tr>\n",
              "    <tr>\n",
              "      <th>3998</th>\n",
              "      <td>129_left (342).jpg</td>\n",
              "      <td>diabetic_retinopathy</td>\n",
              "    </tr>\n",
              "    <tr>\n",
              "      <th>3999</th>\n",
              "      <td>129_left (453).jpg</td>\n",
              "      <td>diabetic_retinopathy</td>\n",
              "    </tr>\n",
              "  </tbody>\n",
              "</table>\n",
              "<p>4000 rows × 2 columns</p>\n",
              "</div>\n",
              "    <div class=\"colab-df-buttons\">\n",
              "\n",
              "  <div class=\"colab-df-container\">\n",
              "    <button class=\"colab-df-convert\" onclick=\"convertToInteractive('df-eb1c1510-326e-4b9c-b9a6-83455c29d88d')\"\n",
              "            title=\"Convert this dataframe to an interactive table.\"\n",
              "            style=\"display:none;\">\n",
              "\n",
              "  <svg xmlns=\"http://www.w3.org/2000/svg\" height=\"24px\" viewBox=\"0 -960 960 960\">\n",
              "    <path d=\"M120-120v-720h720v720H120Zm60-500h600v-160H180v160Zm220 220h160v-160H400v160Zm0 220h160v-160H400v160ZM180-400h160v-160H180v160Zm440 0h160v-160H620v160ZM180-180h160v-160H180v160Zm440 0h160v-160H620v160Z\"/>\n",
              "  </svg>\n",
              "    </button>\n",
              "\n",
              "  <style>\n",
              "    .colab-df-container {\n",
              "      display:flex;\n",
              "      gap: 12px;\n",
              "    }\n",
              "\n",
              "    .colab-df-convert {\n",
              "      background-color: #E8F0FE;\n",
              "      border: none;\n",
              "      border-radius: 50%;\n",
              "      cursor: pointer;\n",
              "      display: none;\n",
              "      fill: #1967D2;\n",
              "      height: 32px;\n",
              "      padding: 0 0 0 0;\n",
              "      width: 32px;\n",
              "    }\n",
              "\n",
              "    .colab-df-convert:hover {\n",
              "      background-color: #E2EBFA;\n",
              "      box-shadow: 0px 1px 2px rgba(60, 64, 67, 0.3), 0px 1px 3px 1px rgba(60, 64, 67, 0.15);\n",
              "      fill: #174EA6;\n",
              "    }\n",
              "\n",
              "    .colab-df-buttons div {\n",
              "      margin-bottom: 4px;\n",
              "    }\n",
              "\n",
              "    [theme=dark] .colab-df-convert {\n",
              "      background-color: #3B4455;\n",
              "      fill: #D2E3FC;\n",
              "    }\n",
              "\n",
              "    [theme=dark] .colab-df-convert:hover {\n",
              "      background-color: #434B5C;\n",
              "      box-shadow: 0px 1px 3px 1px rgba(0, 0, 0, 0.15);\n",
              "      filter: drop-shadow(0px 1px 2px rgba(0, 0, 0, 0.3));\n",
              "      fill: #FFFFFF;\n",
              "    }\n",
              "  </style>\n",
              "\n",
              "    <script>\n",
              "      const buttonEl =\n",
              "        document.querySelector('#df-eb1c1510-326e-4b9c-b9a6-83455c29d88d button.colab-df-convert');\n",
              "      buttonEl.style.display =\n",
              "        google.colab.kernel.accessAllowed ? 'block' : 'none';\n",
              "\n",
              "      async function convertToInteractive(key) {\n",
              "        const element = document.querySelector('#df-eb1c1510-326e-4b9c-b9a6-83455c29d88d');\n",
              "        const dataTable =\n",
              "          await google.colab.kernel.invokeFunction('convertToInteractive',\n",
              "                                                    [key], {});\n",
              "        if (!dataTable) return;\n",
              "\n",
              "        const docLinkHtml = 'Like what you see? Visit the ' +\n",
              "          '<a target=\"_blank\" href=https://colab.research.google.com/notebooks/data_table.ipynb>data table notebook</a>'\n",
              "          + ' to learn more about interactive tables.';\n",
              "        element.innerHTML = '';\n",
              "        dataTable['output_type'] = 'display_data';\n",
              "        await google.colab.output.renderOutput(dataTable, element);\n",
              "        const docLink = document.createElement('div');\n",
              "        docLink.innerHTML = docLinkHtml;\n",
              "        element.appendChild(docLink);\n",
              "      }\n",
              "    </script>\n",
              "  </div>\n",
              "\n",
              "\n",
              "<div id=\"df-eff9f5a4-4ae2-4c13-ae41-98c0b2c8de21\">\n",
              "  <button class=\"colab-df-quickchart\" onclick=\"quickchart('df-eff9f5a4-4ae2-4c13-ae41-98c0b2c8de21')\"\n",
              "            title=\"Suggest charts\"\n",
              "            style=\"display:none;\">\n",
              "\n",
              "<svg xmlns=\"http://www.w3.org/2000/svg\" height=\"24px\"viewBox=\"0 0 24 24\"\n",
              "     width=\"24px\">\n",
              "    <g>\n",
              "        <path d=\"M19 3H5c-1.1 0-2 .9-2 2v14c0 1.1.9 2 2 2h14c1.1 0 2-.9 2-2V5c0-1.1-.9-2-2-2zM9 17H7v-7h2v7zm4 0h-2V7h2v10zm4 0h-2v-4h2v4z\"/>\n",
              "    </g>\n",
              "</svg>\n",
              "  </button>\n",
              "\n",
              "<style>\n",
              "  .colab-df-quickchart {\n",
              "      --bg-color: #E8F0FE;\n",
              "      --fill-color: #1967D2;\n",
              "      --hover-bg-color: #E2EBFA;\n",
              "      --hover-fill-color: #174EA6;\n",
              "      --disabled-fill-color: #AAA;\n",
              "      --disabled-bg-color: #DDD;\n",
              "  }\n",
              "\n",
              "  [theme=dark] .colab-df-quickchart {\n",
              "      --bg-color: #3B4455;\n",
              "      --fill-color: #D2E3FC;\n",
              "      --hover-bg-color: #434B5C;\n",
              "      --hover-fill-color: #FFFFFF;\n",
              "      --disabled-bg-color: #3B4455;\n",
              "      --disabled-fill-color: #666;\n",
              "  }\n",
              "\n",
              "  .colab-df-quickchart {\n",
              "    background-color: var(--bg-color);\n",
              "    border: none;\n",
              "    border-radius: 50%;\n",
              "    cursor: pointer;\n",
              "    display: none;\n",
              "    fill: var(--fill-color);\n",
              "    height: 32px;\n",
              "    padding: 0;\n",
              "    width: 32px;\n",
              "  }\n",
              "\n",
              "  .colab-df-quickchart:hover {\n",
              "    background-color: var(--hover-bg-color);\n",
              "    box-shadow: 0 1px 2px rgba(60, 64, 67, 0.3), 0 1px 3px 1px rgba(60, 64, 67, 0.15);\n",
              "    fill: var(--button-hover-fill-color);\n",
              "  }\n",
              "\n",
              "  .colab-df-quickchart-complete:disabled,\n",
              "  .colab-df-quickchart-complete:disabled:hover {\n",
              "    background-color: var(--disabled-bg-color);\n",
              "    fill: var(--disabled-fill-color);\n",
              "    box-shadow: none;\n",
              "  }\n",
              "\n",
              "  .colab-df-spinner {\n",
              "    border: 2px solid var(--fill-color);\n",
              "    border-color: transparent;\n",
              "    border-bottom-color: var(--fill-color);\n",
              "    animation:\n",
              "      spin 1s steps(1) infinite;\n",
              "  }\n",
              "\n",
              "  @keyframes spin {\n",
              "    0% {\n",
              "      border-color: transparent;\n",
              "      border-bottom-color: var(--fill-color);\n",
              "      border-left-color: var(--fill-color);\n",
              "    }\n",
              "    20% {\n",
              "      border-color: transparent;\n",
              "      border-left-color: var(--fill-color);\n",
              "      border-top-color: var(--fill-color);\n",
              "    }\n",
              "    30% {\n",
              "      border-color: transparent;\n",
              "      border-left-color: var(--fill-color);\n",
              "      border-top-color: var(--fill-color);\n",
              "      border-right-color: var(--fill-color);\n",
              "    }\n",
              "    40% {\n",
              "      border-color: transparent;\n",
              "      border-right-color: var(--fill-color);\n",
              "      border-top-color: var(--fill-color);\n",
              "    }\n",
              "    60% {\n",
              "      border-color: transparent;\n",
              "      border-right-color: var(--fill-color);\n",
              "    }\n",
              "    80% {\n",
              "      border-color: transparent;\n",
              "      border-right-color: var(--fill-color);\n",
              "      border-bottom-color: var(--fill-color);\n",
              "    }\n",
              "    90% {\n",
              "      border-color: transparent;\n",
              "      border-bottom-color: var(--fill-color);\n",
              "    }\n",
              "  }\n",
              "</style>\n",
              "\n",
              "  <script>\n",
              "    async function quickchart(key) {\n",
              "      const quickchartButtonEl =\n",
              "        document.querySelector('#' + key + ' button');\n",
              "      quickchartButtonEl.disabled = true;  // To prevent multiple clicks.\n",
              "      quickchartButtonEl.classList.add('colab-df-spinner');\n",
              "      try {\n",
              "        const charts = await google.colab.kernel.invokeFunction(\n",
              "            'suggestCharts', [key], {});\n",
              "      } catch (error) {\n",
              "        console.error('Error during call to suggestCharts:', error);\n",
              "      }\n",
              "      quickchartButtonEl.classList.remove('colab-df-spinner');\n",
              "      quickchartButtonEl.classList.add('colab-df-quickchart-complete');\n",
              "    }\n",
              "    (() => {\n",
              "      let quickchartButtonEl =\n",
              "        document.querySelector('#df-eff9f5a4-4ae2-4c13-ae41-98c0b2c8de21 button');\n",
              "      quickchartButtonEl.style.display =\n",
              "        google.colab.kernel.accessAllowed ? 'block' : 'none';\n",
              "    })();\n",
              "  </script>\n",
              "</div>\n",
              "    </div>\n",
              "  </div>\n"
            ],
            "text/plain": [
              "                   image                 label\n",
              "0           103_left.jpg              cataract\n",
              "1             0_left.jpg              cataract\n",
              "2          2200_left.jpg              cataract\n",
              "3         2101_right.jpg              cataract\n",
              "4         2232_right.jpg              cataract\n",
              "...                  ...                   ...\n",
              "3995  129_left (719).jpg  diabetic_retinopathy\n",
              "3996  129_left (837).jpg  diabetic_retinopathy\n",
              "3997   129_left (11).jpg  diabetic_retinopathy\n",
              "3998  129_left (342).jpg  diabetic_retinopathy\n",
              "3999  129_left (453).jpg  diabetic_retinopathy\n",
              "\n",
              "[4000 rows x 2 columns]"
            ]
          },
          "execution_count": 4,
          "metadata": {},
          "output_type": "execute_result"
        }
      ],
      "source": [
        "IMAGE = '/content/gdrive/MyDrive/Colab Notebooks/datasetraden/'\n",
        "TARGET_LABEL = {'cataract': 0,\n",
        "                'diabetic_retinopathy': 1,\n",
        "                'glaucoma': 2,\n",
        "                'normal': 3}\n",
        "\n",
        "df = pd.DataFrame({'image':images, 'label': label})\n",
        "df"
      ]
    },
    {
      "cell_type": "markdown",
      "metadata": {
        "id": "CDUCakG-bTIm"
      },
      "source": [
        "###menunjukkan presentase sebaran data"
      ]
    },
    {
      "cell_type": "code",
      "execution_count": null,
      "metadata": {
        "colab": {
          "background_save": true
        },
        "id": "_Yqqv3cSFc8S",
        "outputId": "cd51ca53-3d5f-4fd5-d1b9-2278ad68fc06"
      },
      "outputs": [
        {
          "name": "stderr",
          "output_type": "stream",
          "text": [
            "<ipython-input-5-273ed2dae6bc>:3: MatplotlibDeprecationWarning: The seaborn styles shipped by Matplotlib are deprecated since 3.6, as they no longer correspond to the styles shipped by seaborn. However, they will remain available as 'seaborn-v0_8-<style>'. Alternatively, directly use the seaborn API instead.\n",
            "  plt.style.use('seaborn')\n"
          ]
        },
        {
          "data": {
            "image/png": "[encoded data removed]",
            "text/plain": [
              "<Figure size 800x550 with 1 Axes>"
            ]
          },
          "metadata": {},
          "output_type": "display_data"
        }
      ],
      "source": [
        "label, count = np.unique(df['label'].values, return_counts=True)\n",
        "precentange = [x / np.sum(count) for x in count]\n",
        "plt.style.use('seaborn')\n",
        "plt.pie(precentange, labels = label, explode=[0.1, 0.1, 0.1, 0.1],  autopct='%1.f%%', shadow=True)\n",
        "plt.title('DATA PERCENTAGE')\n",
        "plt.show()"
      ]
    },
    {
      "cell_type": "markdown",
      "metadata": {
        "id": "uydVVU1-cYx6"
      },
      "source": [
        "###mempersiapkan fungsi untuk memuat dataset"
      ]
    },
    {
      "cell_type": "code",
      "execution_count": null,
      "metadata": {
        "colab": {
          "background_save": true
        },
        "id": "vZ3LkmeZFc8V",
        "outputId": "3df8e1f7-bc3f-4eb2-df48-ba5f04e7d1ed"
      },
      "outputs": [
        {
          "data": {
            "text/plain": [
              "(2890, 510, 600)"
            ]
          },
          "execution_count": 6,
          "metadata": {},
          "output_type": "execute_result"
        }
      ],
      "source": [
        "class Penyakit(Dataset):\n",
        "    def __init__(self, x, y, path, map_label=TARGET_LABEL, transform=None):\n",
        "        self.X = x\n",
        "        self.y = y\n",
        "        self.path = path\n",
        "        self.map_label = map_label\n",
        "        self.transform = transform\n",
        "\n",
        "    def __getitem__(self, idx):\n",
        "        img = Image.open(self.path + str(self.y[idx]) + '/' + str(self.X[idx])).convert('RGB')\n",
        "        label = self.map_label[self.y[idx]]\n",
        "\n",
        "        if self.transform is not None:\n",
        "            img = self.transform(img)\n",
        "\n",
        "        return img, label\n",
        "\n",
        "    def __len__(self):\n",
        "        return len(self.X)\n",
        "\n",
        "X_trainval, X_test, y_trainval, y_test = train_test_split(\n",
        "    df['image'].values, df['label'].values,\n",
        "    test_size=0.15, stratify=df['label'].values,\n",
        "    random_state=77)\n",
        "\n",
        "X_train, X_val, y_train, y_val = train_test_split(\n",
        "    X_trainval, y_trainval,\n",
        "    stratify=y_trainval, test_size=0.15,\n",
        "    random_state=77)\n",
        "len(X_train), len(X_val), len(X_test)"
      ]
    },
    {
      "cell_type": "markdown",
      "metadata": {
        "id": "QrlhKt5kauRU"
      },
      "source": [
        "###memuat dataset"
      ]
    },
    {
      "cell_type": "code",
      "execution_count": null,
      "metadata": {
        "colab": {
          "background_save": true
        },
        "id": "vPhS8YAlFc8Z"
      },
      "outputs": [],
      "source": [
        "#DATALOADER\n",
        "mean = [0.5548598 , 0.54704523, 0.54043627]\n",
        "std = [0.1071739 , 0.10524916, 0.10435305]\n",
        "batch_size = 16\n",
        "\n",
        "train_transform = T.Compose([T.Resize((128, 128)),\n",
        "                             T.RandomHorizontalFlip(),\n",
        "                             T.RandomVerticalFlip(),\n",
        "                             T.RandomRotation(20),\n",
        "                             T.ToTensor(),\n",
        "                             T.Normalize(mean, std)\n",
        "                            ])\n",
        "\n",
        "val_transform = T.Compose([T.Resize((128, 128)),\n",
        "                           T.ToTensor(),\n",
        "                           T.Normalize(mean, std),\n",
        "                          ])\n",
        "\n",
        "train_set = Penyakit(X_train, y_train, IMAGE, transform=train_transform)\n",
        "val_set = Penyakit(X_val, y_val, IMAGE, transform=val_transform)\n",
        "\n",
        "train_loader = DataLoader(train_set, batch_size=batch_size, shuffle=True,\n",
        "                                           num_workers=0, pin_memory=True)\n",
        "val_loader = DataLoader(val_set, batch_size=batch_size*2, shuffle=False,\n",
        "                                         num_workers=0, pin_memory=True)"
      ]
    },
    {
      "cell_type": "markdown",
      "metadata": {
        "id": "a8rmNLtid7uU"
      },
      "source": [
        "###menunjukkan isi dari data training secara random"
      ]
    },
    {
      "cell_type": "code",
      "execution_count": null,
      "metadata": {
        "colab": {
          "background_save": true
        },
        "id": "LX7204XIFc8b",
        "outputId": "62740dd5-3eb5-4f21-b514-b14133df6562"
      },
      "outputs": [
        {
          "name": "stderr",
          "output_type": "stream",
          "text": [
            "WARNING:matplotlib.image:Clipping input data to the valid range for imshow with RGB data ([0..1] for floats or [0..255] for integers).\n"
          ]
        },
        {
          "data": {
            "text/plain": [
              "<matplotlib.image.AxesImage at 0x7f8ecd465db0>"
            ]
          },
          "execution_count": 8,
          "metadata": {},
          "output_type": "execute_result"
        },
        {
          "data": {
            "image/png": "[encoded data removed]",
            "text/plain": [
              "<Figure size 800x550 with 1 Axes>"
            ]
          },
          "metadata": {},
          "output_type": "display_data"
        }
      ],
      "source": [
        "img, label = train_set[random.randint(1, len(X_train))]\n",
        "\n",
        "plt.imshow(img.permute(1,2,0))"
      ]
    },
    {
      "cell_type": "markdown",
      "metadata": {
        "id": "iDyR1j3BeUfO"
      },
      "source": [
        "###memuat model MobileNetV3-Small dan penambahan teknik squeeze-and-excitation\n",
        "memuat resnet dengan 1024 Neuron dan 4 class"
      ]
    },
    {
      "cell_type": "code",
      "execution_count": null,
      "metadata": {
        "colab": {
          "background_save": true
        },
        "id": "uRS3qdGUFc8e",
        "outputId": "988c60ee-a9f5-40e3-a68b-cde1b34303c5"
      },
      "outputs": [
        {
          "name": "stderr",
          "output_type": "stream",
          "text": [
            "/usr/local/lib/python3.10/dist-packages/torchvision/models/_utils.py:208: UserWarning: The parameter 'pretrained' is deprecated since 0.13 and may be removed in the future, please use 'weights' instead.\n",
            "  warnings.warn(\n",
            "/usr/local/lib/python3.10/dist-packages/torchvision/models/_utils.py:223: UserWarning: Arguments other than a weight enum or `None` for 'weights' are deprecated since 0.13 and may be removed in the future. The current behavior is equivalent to passing `weights=MobileNet_V3_Small_Weights.IMAGENET1K_V1`. You can also use `weights=MobileNet_V3_Small_Weights.DEFAULT` to get the most up-to-date weights.\n",
            "  warnings.warn(msg)\n",
            "Downloading: \"https://download.pytorch.org/models/mobilenet_v3_small-047dcff4.pth\" to /root/.cache/torch/hub/checkpoints/mobilenet_v3_small-047dcff4.pth\n",
            "100%|██████████| 9.83M/9.83M [00:00<00:00, 30.8MB/s]"
          ]
        },
        {
          "name": "stdout",
          "output_type": "stream",
          "text": [
            "MobileNetV3WithSE(\n",
            "  (base_model): MobileNetV3(\n",
            "    (features): Sequential(\n",
            "      (0): Conv2dNormActivation(\n",
            "        (0): Conv2d(3, 16, kernel_size=(3, 3), stride=(2, 2), padding=(1, 1), bias=False)\n",
            "        (1): BatchNorm2d(16, eps=0.001, momentum=0.01, affine=True, track_running_stats=True)\n",
            "        (2): Hardswish()\n",
            "      )\n",
            "      (1): InvertedResidual(\n",
            "        (block): Sequential(\n",
            "          (0): Conv2dNormActivation(\n",
            "            (0): Conv2d(16, 16, kernel_size=(3, 3), stride=(2, 2), padding=(1, 1), groups=16, bias=False)\n",
            "            (1): BatchNorm2d(16, eps=0.001, momentum=0.01, affine=True, track_running_stats=True)\n",
            "            (2): ReLU(inplace=True)\n",
            "          )\n",
            "          (1): SqueezeExcitation(\n",
            "            (avgpool): AdaptiveAvgPool2d(output_size=1)\n",
            "            (fc1): Conv2d(16, 8, kernel_size=(1, 1), stride=(1, 1))\n",
            "            (fc2): Conv2d(8, 16, kernel_size=(1, 1), stride=(1, 1))\n",
            "            (activation): ReLU()\n",
            "            (scale_activation): Hardsigmoid()\n",
            "          )\n",
            "          (2): Conv2dNormActivation(\n",
            "            (0): Conv2d(16, 16, kernel_size=(1, 1), stride=(1, 1), bias=False)\n",
            "            (1): BatchNorm2d(16, eps=0.001, momentum=0.01, affine=True, track_running_stats=True)\n",
            "          )\n",
            "        )\n",
            "      )\n",
            "      (2): InvertedResidual(\n",
            "        (block): Sequential(\n",
            "          (0): Conv2dNormActivation(\n",
            "            (0): Conv2d(16, 72, kernel_size=(1, 1), stride=(1, 1), bias=False)\n",
            "            (1): BatchNorm2d(72, eps=0.001, momentum=0.01, affine=True, track_running_stats=True)\n",
            "            (2): ReLU(inplace=True)\n",
            "          )\n",
            "          (1): Conv2dNormActivation(\n",
            "            (0): Conv2d(72, 72, kernel_size=(3, 3), stride=(2, 2), padding=(1, 1), groups=72, bias=False)\n",
            "            (1): BatchNorm2d(72, eps=0.001, momentum=0.01, affine=True, track_running_stats=True)\n",
            "            (2): ReLU(inplace=True)\n",
            "          )\n",
            "          (2): Conv2dNormActivation(\n",
            "            (0): Conv2d(72, 24, kernel_size=(1, 1), stride=(1, 1), bias=False)\n",
            "            (1): BatchNorm2d(24, eps=0.001, momentum=0.01, affine=True, track_running_stats=True)\n",
            "          )\n",
            "        )\n",
            "      )\n",
            "      (3): InvertedResidual(\n",
            "        (block): Sequential(\n",
            "          (0): Conv2dNormActivation(\n",
            "            (0): Conv2d(24, 88, kernel_size=(1, 1), stride=(1, 1), bias=False)\n",
            "            (1): BatchNorm2d(88, eps=0.001, momentum=0.01, affine=True, track_running_stats=True)\n",
            "            (2): ReLU(inplace=True)\n",
            "          )\n",
            "          (1): Conv2dNormActivation(\n",
            "            (0): Conv2d(88, 88, kernel_size=(3, 3), stride=(1, 1), padding=(1, 1), groups=88, bias=False)\n",
            "            (1): BatchNorm2d(88, eps=0.001, momentum=0.01, affine=True, track_running_stats=True)\n",
            "            (2): ReLU(inplace=True)\n",
            "          )\n",
            "          (2): Conv2dNormActivation(\n",
            "            (0): Conv2d(88, 24, kernel_size=(1, 1), stride=(1, 1), bias=False)\n",
            "            (1): BatchNorm2d(24, eps=0.001, momentum=0.01, affine=True, track_running_stats=True)\n",
            "          )\n",
            "        )\n",
            "      )\n",
            "      (4): InvertedResidual(\n",
            "        (block): Sequential(\n",
            "          (0): Conv2dNormActivation(\n",
            "            (0): Conv2d(24, 96, kernel_size=(1, 1), stride=(1, 1), bias=False)\n",
            "            (1): BatchNorm2d(96, eps=0.001, momentum=0.01, affine=True, track_running_stats=True)\n",
            "            (2): Hardswish()\n",
            "          )\n",
            "          (1): Conv2dNormActivation(\n",
            "            (0): Conv2d(96, 96, kernel_size=(5, 5), stride=(2, 2), padding=(2, 2), groups=96, bias=False)\n",
            "            (1): BatchNorm2d(96, eps=0.001, momentum=0.01, affine=True, track_running_stats=True)\n",
            "            (2): Hardswish()\n",
            "          )\n",
            "          (2): SqueezeExcitation(\n",
            "            (avgpool): AdaptiveAvgPool2d(output_size=1)\n",
            "            (fc1): Conv2d(96, 24, kernel_size=(1, 1), stride=(1, 1))\n",
            "            (fc2): Conv2d(24, 96, kernel_size=(1, 1), stride=(1, 1))\n",
            "            (activation): ReLU()\n",
            "            (scale_activation): Hardsigmoid()\n",
            "          )\n",
            "          (3): Conv2dNormActivation(\n",
            "            (0): Conv2d(96, 40, kernel_size=(1, 1), stride=(1, 1), bias=False)\n",
            "            (1): BatchNorm2d(40, eps=0.001, momentum=0.01, affine=True, track_running_stats=True)\n",
            "          )\n",
            "        )\n",
            "      )\n",
            "      (5): InvertedResidual(\n",
            "        (block): Sequential(\n",
            "          (0): Conv2dNormActivation(\n",
            "            (0): Conv2d(40, 240, kernel_size=(1, 1), stride=(1, 1), bias=False)\n",
            "            (1): BatchNorm2d(240, eps=0.001, momentum=0.01, affine=True, track_running_stats=True)\n",
            "            (2): Hardswish()\n",
            "          )\n",
            "          (1): Conv2dNormActivation(\n",
            "            (0): Conv2d(240, 240, kernel_size=(5, 5), stride=(1, 1), padding=(2, 2), groups=240, bias=False)\n",
            "            (1): BatchNorm2d(240, eps=0.001, momentum=0.01, affine=True, track_running_stats=True)\n",
            "            (2): Hardswish()\n",
            "          )\n",
            "          (2): SqueezeExcitation(\n",
            "            (avgpool): AdaptiveAvgPool2d(output_size=1)\n",
            "            (fc1): Conv2d(240, 64, kernel_size=(1, 1), stride=(1, 1))\n",
            "            (fc2): Conv2d(64, 240, kernel_size=(1, 1), stride=(1, 1))\n",
            "            (activation): ReLU()\n",
            "            (scale_activation): Hardsigmoid()\n",
            "          )\n",
            "          (3): Conv2dNormActivation(\n",
            "            (0): Conv2d(240, 40, kernel_size=(1, 1), stride=(1, 1), bias=False)\n",
            "            (1): BatchNorm2d(40, eps=0.001, momentum=0.01, affine=True, track_running_stats=True)\n",
            "          )\n",
            "        )\n",
            "      )\n",
            "      (6): InvertedResidual(\n",
            "        (block): Sequential(\n",
            "          (0): Conv2dNormActivation(\n",
            "            (0): Conv2d(40, 240, kernel_size=(1, 1), stride=(1, 1), bias=False)\n",
            "            (1): BatchNorm2d(240, eps=0.001, momentum=0.01, affine=True, track_running_stats=True)\n",
            "            (2): Hardswish()\n",
            "          )\n",
            "          (1): Conv2dNormActivation(\n",
            "            (0): Conv2d(240, 240, kernel_size=(5, 5), stride=(1, 1), padding=(2, 2), groups=240, bias=False)\n",
            "            (1): BatchNorm2d(240, eps=0.001, momentum=0.01, affine=True, track_running_stats=True)\n",
            "            (2): Hardswish()\n",
            "          )\n",
            "          (2): SqueezeExcitation(\n",
            "            (avgpool): AdaptiveAvgPool2d(output_size=1)\n",
            "            (fc1): Conv2d(240, 64, kernel_size=(1, 1), stride=(1, 1))\n",
            "            (fc2): Conv2d(64, 240, kernel_size=(1, 1), stride=(1, 1))\n",
            "            (activation): ReLU()\n",
            "            (scale_activation): Hardsigmoid()\n",
            "          )\n",
            "          (3): Conv2dNormActivation(\n",
            "            (0): Conv2d(240, 40, kernel_size=(1, 1), stride=(1, 1), bias=False)\n",
            "            (1): BatchNorm2d(40, eps=0.001, momentum=0.01, affine=True, track_running_stats=True)\n",
            "          )\n",
            "        )\n",
            "      )\n",
            "      (7): InvertedResidual(\n",
            "        (block): Sequential(\n",
            "          (0): Conv2dNormActivation(\n",
            "            (0): Conv2d(40, 120, kernel_size=(1, 1), stride=(1, 1), bias=False)\n",
            "            (1): BatchNorm2d(120, eps=0.001, momentum=0.01, affine=True, track_running_stats=True)\n",
            "            (2): Hardswish()\n",
            "          )\n",
            "          (1): Conv2dNormActivation(\n",
            "            (0): Conv2d(120, 120, kernel_size=(5, 5), stride=(1, 1), padding=(2, 2), groups=120, bias=False)\n",
            "            (1): BatchNorm2d(120, eps=0.001, momentum=0.01, affine=True, track_running_stats=True)\n",
            "            (2): Hardswish()\n",
            "          )\n",
            "          (2): SqueezeExcitation(\n",
            "            (avgpool): AdaptiveAvgPool2d(output_size=1)\n",
            "            (fc1): Conv2d(120, 32, kernel_size=(1, 1), stride=(1, 1))\n",
            "            (fc2): Conv2d(32, 120, kernel_size=(1, 1), stride=(1, 1))\n",
            "            (activation): ReLU()\n",
            "            (scale_activation): Hardsigmoid()\n",
            "          )\n",
            "          (3): Conv2dNormActivation(\n",
            "            (0): Conv2d(120, 48, kernel_size=(1, 1), stride=(1, 1), bias=False)\n",
            "            (1): BatchNorm2d(48, eps=0.001, momentum=0.01, affine=True, track_running_stats=True)\n",
            "          )\n",
            "        )\n",
            "      )\n",
            "      (8): InvertedResidual(\n",
            "        (block): Sequential(\n",
            "          (0): Conv2dNormActivation(\n",
            "            (0): Conv2d(48, 144, kernel_size=(1, 1), stride=(1, 1), bias=False)\n",
            "            (1): BatchNorm2d(144, eps=0.001, momentum=0.01, affine=True, track_running_stats=True)\n",
            "            (2): Hardswish()\n",
            "          )\n",
            "          (1): Conv2dNormActivation(\n",
            "            (0): Conv2d(144, 144, kernel_size=(5, 5), stride=(1, 1), padding=(2, 2), groups=144, bias=False)\n",
            "            (1): BatchNorm2d(144, eps=0.001, momentum=0.01, affine=True, track_running_stats=True)\n",
            "            (2): Hardswish()\n",
            "          )\n",
            "          (2): SqueezeExcitation(\n",
            "            (avgpool): AdaptiveAvgPool2d(output_size=1)\n",
            "            (fc1): Conv2d(144, 40, kernel_size=(1, 1), stride=(1, 1))\n",
            "            (fc2): Conv2d(40, 144, kernel_size=(1, 1), stride=(1, 1))\n",
            "            (activation): ReLU()\n",
            "            (scale_activation): Hardsigmoid()\n",
            "          )\n",
            "          (3): Conv2dNormActivation(\n",
            "            (0): Conv2d(144, 48, kernel_size=(1, 1), stride=(1, 1), bias=False)\n",
            "            (1): BatchNorm2d(48, eps=0.001, momentum=0.01, affine=True, track_running_stats=True)\n",
            "          )\n",
            "        )\n",
            "      )\n",
            "      (9): InvertedResidual(\n",
            "        (block): Sequential(\n",
            "          (0): Conv2dNormActivation(\n",
            "            (0): Conv2d(48, 288, kernel_size=(1, 1), stride=(1, 1), bias=False)\n",
            "            (1): BatchNorm2d(288, eps=0.001, momentum=0.01, affine=True, track_running_stats=True)\n",
            "            (2): Hardswish()\n",
            "          )\n",
            "          (1): Conv2dNormActivation(\n",
            "            (0): Conv2d(288, 288, kernel_size=(5, 5), stride=(2, 2), padding=(2, 2), groups=288, bias=False)\n",
            "            (1): BatchNorm2d(288, eps=0.001, momentum=0.01, affine=True, track_running_stats=True)\n",
            "            (2): Hardswish()\n",
            "          )\n",
            "          (2): SqueezeExcitation(\n",
            "            (avgpool): AdaptiveAvgPool2d(output_size=1)\n",
            "            (fc1): Conv2d(288, 72, kernel_size=(1, 1), stride=(1, 1))\n",
            "            (fc2): Conv2d(72, 288, kernel_size=(1, 1), stride=(1, 1))\n",
            "            (activation): ReLU()\n",
            "            (scale_activation): Hardsigmoid()\n",
            "          )\n",
            "          (3): Conv2dNormActivation(\n",
            "            (0): Conv2d(288, 96, kernel_size=(1, 1), stride=(1, 1), bias=False)\n",
            "            (1): BatchNorm2d(96, eps=0.001, momentum=0.01, affine=True, track_running_stats=True)\n",
            "          )\n",
            "        )\n",
            "      )\n",
            "      (10): InvertedResidual(\n",
            "        (block): Sequential(\n",
            "          (0): Conv2dNormActivation(\n",
            "            (0): Conv2d(96, 576, kernel_size=(1, 1), stride=(1, 1), bias=False)\n",
            "            (1): BatchNorm2d(576, eps=0.001, momentum=0.01, affine=True, track_running_stats=True)\n",
            "            (2): Hardswish()\n",
            "          )\n",
            "          (1): Conv2dNormActivation(\n",
            "            (0): Conv2d(576, 576, kernel_size=(5, 5), stride=(1, 1), padding=(2, 2), groups=576, bias=False)\n",
            "            (1): BatchNorm2d(576, eps=0.001, momentum=0.01, affine=True, track_running_stats=True)\n",
            "            (2): Hardswish()\n",
            "          )\n",
            "          (2): SqueezeExcitation(\n",
            "            (avgpool): AdaptiveAvgPool2d(output_size=1)\n",
            "            (fc1): Conv2d(576, 144, kernel_size=(1, 1), stride=(1, 1))\n",
            "            (fc2): Conv2d(144, 576, kernel_size=(1, 1), stride=(1, 1))\n",
            "            (activation): ReLU()\n",
            "            (scale_activation): Hardsigmoid()\n",
            "          )\n",
            "          (3): Conv2dNormActivation(\n",
            "            (0): Conv2d(576, 96, kernel_size=(1, 1), stride=(1, 1), bias=False)\n",
            "            (1): BatchNorm2d(96, eps=0.001, momentum=0.01, affine=True, track_running_stats=True)\n",
            "          )\n",
            "        )\n",
            "      )\n",
            "      (11): InvertedResidual(\n",
            "        (block): Sequential(\n",
            "          (0): Conv2dNormActivation(\n",
            "            (0): Conv2d(96, 576, kernel_size=(1, 1), stride=(1, 1), bias=False)\n",
            "            (1): BatchNorm2d(576, eps=0.001, momentum=0.01, affine=True, track_running_stats=True)\n",
            "            (2): Hardswish()\n",
            "          )\n",
            "          (1): Conv2dNormActivation(\n",
            "            (0): Conv2d(576, 576, kernel_size=(5, 5), stride=(1, 1), padding=(2, 2), groups=576, bias=False)\n",
            "            (1): BatchNorm2d(576, eps=0.001, momentum=0.01, affine=True, track_running_stats=True)\n",
            "            (2): Hardswish()\n",
            "          )\n",
            "          (2): SqueezeExcitation(\n",
            "            (avgpool): AdaptiveAvgPool2d(output_size=1)\n",
            "            (fc1): Conv2d(576, 144, kernel_size=(1, 1), stride=(1, 1))\n",
            "            (fc2): Conv2d(144, 576, kernel_size=(1, 1), stride=(1, 1))\n",
            "            (activation): ReLU()\n",
            "            (scale_activation): Hardsigmoid()\n",
            "          )\n",
            "          (3): Conv2dNormActivation(\n",
            "            (0): Conv2d(576, 96, kernel_size=(1, 1), stride=(1, 1), bias=False)\n",
            "            (1): BatchNorm2d(96, eps=0.001, momentum=0.01, affine=True, track_running_stats=True)\n",
            "          )\n",
            "        )\n",
            "      )\n",
            "      (12): Conv2dNormActivation(\n",
            "        (0): Conv2d(96, 576, kernel_size=(1, 1), stride=(1, 1), bias=False)\n",
            "        (1): BatchNorm2d(576, eps=0.001, momentum=0.01, affine=True, track_running_stats=True)\n",
            "        (2): Hardswish()\n",
            "      )\n",
            "    )\n",
            "    (avgpool): AdaptiveAvgPool2d(output_size=1)\n",
            "    (classifier): Sequential(\n",
            "      (0): Linear(in_features=576, out_features=1024, bias=True)\n",
            "      (1): Hardswish()\n",
            "      (2): Dropout(p=0.2, inplace=True)\n",
            "      (3): Linear(in_features=1024, out_features=1000, bias=True)\n",
            "    )\n",
            "  )\n",
            "  (se_block): SEBlock(\n",
            "    (avg_pool): AdaptiveAvgPool2d(output_size=1)\n",
            "    (fc): Sequential(\n",
            "      (0): Linear(in_features=1024, out_features=64, bias=False)\n",
            "      (1): ReLU(inplace=True)\n",
            "      (2): Linear(in_features=64, out_features=1024, bias=False)\n",
            "      (3): Sigmoid()\n",
            "    )\n",
            "  )\n",
            "  (fc): Linear(in_features=1024, out_features=4, bias=True)\n",
            ")\n"
          ]
        },
        {
          "name": "stderr",
          "output_type": "stream",
          "text": [
            "\n"
          ]
        }
      ],
      "source": [
        "import torch\n",
        "import torch.nn as nn\n",
        "import torchvision\n",
        "\n",
        "# Definisikan kelas SEBlock\n",
        "class SEBlock(nn.Module):\n",
        "    def __init__(self, in_channels, reduction_ratio=16):\n",
        "        super(SEBlock, self).__init__()\n",
        "        self.avg_pool = nn.AdaptiveAvgPool2d(1)\n",
        "        self.fc = nn.Sequential(\n",
        "            nn.Linear(in_channels, in_channels // reduction_ratio, bias=False),\n",
        "            nn.ReLU(inplace=True),\n",
        "            nn.Linear(in_channels // reduction_ratio, in_channels, bias=False),\n",
        "            nn.Sigmoid()\n",
        "        )\n",
        "\n",
        "    def forward(self, x):\n",
        "        b, c, _, _ = x.size()\n",
        "        y = self.avg_pool(x).view(b, c)\n",
        "        y = self.fc(y).view(b, c, 1, 1)\n",
        "        return x * y\n",
        "\n",
        "# Definisikan model dengan fitur Squeeze-and-Excitation\n",
        "class MobileNetV3WithSE(nn.Module):\n",
        "    def __init__(self, num_classes):\n",
        "        super(MobileNetV3WithSE, self).__init__()\n",
        "        self.base_model = torchvision.models.mobilenet_v3_small(pretrained=True)\n",
        "        self.se_block = SEBlock(1024)  # Sesuaikan dengan jumlah fitur keluaran dari model dasar\n",
        "        self.fc = nn.Linear(1024, num_classes, bias=True)\n",
        "\n",
        "    def forward(self, x):\n",
        "        x = self.base_model.features(x)\n",
        "        x = self.se_block(x)\n",
        "        x = x.mean([2, 3])\n",
        "        x = self.fc(x)\n",
        "        return x\n",
        "\n",
        "# Inisialisasi model dan gunakan\n",
        "num_classes = 4  # Sesuaikan dengan jumlah kelas Anda\n",
        "model_with_se = MobileNetV3WithSE(num_classes)\n",
        "\n",
        "# Jika Anda ingin menggunakan perangkat GPU jika tersedia\n",
        "device = torch.device(\"cuda\" if torch.cuda.is_available() else \"cpu\")\n",
        "model_with_se.to(device)\n",
        "\n",
        "# Cetak model untuk melihat strukturnya\n",
        "print(model_with_se)"
      ]
    },
    {
      "cell_type": "markdown",
      "metadata": {
        "id": "rN-_69w_fW4D"
      },
      "source": [
        "###menyiapkan fungsi untuk menampung data akurasi dari proses training\n",
        "\n",
        "akurasi = jumlah prediksi benar : jumlah total melakukan prediksi"
      ]
    },
    {
      "cell_type": "code",
      "execution_count": null,
      "metadata": {
        "colab": {
          "background_save": true
        },
        "id": "wt2J9zfEFc8g",
        "outputId": "372ab41f-4f20-43b0-fe87-aebd77c5f25c"
      },
      "outputs": [
        {
          "ename": "NameError",
          "evalue": "name 'model' is not defined",
          "output_type": "error",
          "traceback": [
            "\u001b[0;31m---------------------------------------------------------------------------\u001b[0m",
            "\u001b[0;31mNameError\u001b[0m                                 Traceback (most recent call last)",
            "\u001b[0;32m<ipython-input-10-95c75d6c0acf>\u001b[0m in \u001b[0;36m<cell line: 11>\u001b[0;34m()\u001b[0m\n\u001b[1;32m      9\u001b[0m \u001b[0mlr\u001b[0m \u001b[0;34m=\u001b[0m \u001b[0;36m1e-4\u001b[0m\u001b[0;34m\u001b[0m\u001b[0;34m\u001b[0m\u001b[0m\n\u001b[1;32m     10\u001b[0m \u001b[0mcriterion\u001b[0m \u001b[0;34m=\u001b[0m \u001b[0mnn\u001b[0m\u001b[0;34m.\u001b[0m\u001b[0mCrossEntropyLoss\u001b[0m\u001b[0;34m(\u001b[0m\u001b[0;34m)\u001b[0m\u001b[0;34m\u001b[0m\u001b[0;34m\u001b[0m\u001b[0m\n\u001b[0;32m---> 11\u001b[0;31m \u001b[0moptimizer\u001b[0m \u001b[0;34m=\u001b[0m \u001b[0mtorch\u001b[0m\u001b[0;34m.\u001b[0m\u001b[0moptim\u001b[0m\u001b[0;34m.\u001b[0m\u001b[0mAdam\u001b[0m\u001b[0;34m(\u001b[0m\u001b[0mmodel\u001b[0m\u001b[0;34m.\u001b[0m\u001b[0mparameters\u001b[0m\u001b[0;34m(\u001b[0m\u001b[0;34m)\u001b[0m\u001b[0;34m,\u001b[0m \u001b[0mlr\u001b[0m\u001b[0;34m=\u001b[0m\u001b[0mlr\u001b[0m\u001b[0;34m,\u001b[0m \u001b[0mweight_decay\u001b[0m\u001b[0;34m=\u001b[0m\u001b[0;36m1e-4\u001b[0m\u001b[0;34m)\u001b[0m\u001b[0;34m\u001b[0m\u001b[0;34m\u001b[0m\u001b[0m\n\u001b[0m\u001b[1;32m     12\u001b[0m scheduler = torch.optim.lr_scheduler.OneCycleLR(optimizer, max_lr=lr, epochs=epoch,\n\u001b[1;32m     13\u001b[0m                                                steps_per_epoch=len(train_loader))\n",
            "\u001b[0;31mNameError\u001b[0m: name 'model' is not defined"
          ]
        }
      ],
      "source": [
        "def accuracy(output, label):\n",
        "    with torch.no_grad():\n",
        "        output = torch.argmax(F.softmax(output, dim=1), dim=1)\n",
        "        correct = torch.eq(output, label).int()\n",
        "        accuracy = float(correct.sum()) / float(correct.numel())\n",
        "    return accuracy\n",
        "\n",
        "epoch = 20\n",
        "lr = 1e-4\n",
        "criterion = nn.CrossEntropyLoss()\n",
        "optimizer = torch.optim.Adam(model.parameters(), lr=lr, weight_decay=1e-4)\n",
        "scheduler = torch.optim.lr_scheduler.OneCycleLR(optimizer, max_lr=lr, epochs=epoch,\n",
        "                                               steps_per_epoch=len(train_loader))"
      ]
    },
    {
      "cell_type": "markdown",
      "metadata": {
        "id": "BDmlPejeiarj"
      },
      "source": [
        "###proses training model neural network"
      ]
    },
    {
      "cell_type": "code",
      "execution_count": null,
      "metadata": {
        "colab": {
          "background_save": true
        },
        "id": "eHjc0JbmFc8k"
      },
      "outputs": [],
      "source": [
        "train_losses = []\n",
        "val_losses =[]\n",
        "train_accuracy = []\n",
        "val_acc = []\n",
        "times = []\n",
        "for e in range(epoch):\n",
        "    model.to(device)\n",
        "    model.train()\n",
        "\n",
        "    train_loss = 0\n",
        "    train_acc = 0\n",
        "    since = time.time()\n",
        "    for image, label in tqdm(train_loader, total=len(train_loader)):\n",
        "        optimizer.zero_grad()\n",
        "\n",
        "        image = image.to(device)\n",
        "        label = label.to(device)\n",
        "        output = model(image)\n",
        "        loss = criterion(output, label)\n",
        "\n",
        "        train_loss += loss\n",
        "        train_acc += accuracy(output, label)\n",
        "\n",
        "        loss.backward()\n",
        "        optimizer.step()\n",
        "        scheduler.step()\n",
        "\n",
        "    else:\n",
        "        with torch.no_grad():\n",
        "            model.eval()\n",
        "\n",
        "            running_loss = 0\n",
        "            val_accuracy =0\n",
        "            for image, label in val_loader:\n",
        "                image = image.to(device)\n",
        "                label = label.to(device)\n",
        "\n",
        "                output = model(image)\n",
        "                loss = criterion(output, label)\n",
        "                val_accuracy += accuracy(output, label)\n",
        "                running_loss += loss\n",
        "\n",
        "    train_losses.append((train_loss/len(train_loader)).item())\n",
        "    val_losses.append((running_loss/len(val_loader)).item())\n",
        "    train_accuracy.append(train_acc/ len(train_loader))\n",
        "    val_acc.append(val_accuracy/len(val_loader))\n",
        "\n",
        "    times.append(time.time() - since)\n",
        "\n",
        "    print('epochs {}/{}..'.format(e+1, epoch),\n",
        "          'train loss {:.3f}..'.format(train_loss/len(train_loader)),\n",
        "          'val loss {:.3f}..'.format(running_loss/len(val_loader)),\n",
        "          'train accuracy {:.3f}..'.format(train_acc/ len(train_loader)),\n",
        "          'val accuracy {:.3f}..'.format(val_accuracy/len(val_loader)),\n",
        "          'time {:.3f} s'.format(time.time() - since)\n",
        "         )\n",
        "\n",
        "print(sum(times))"
      ]
    },
    {
      "cell_type": "code",
      "execution_count": null,
      "metadata": {
        "colab": {
          "background_save": true
        },
        "id": "YJoBlRb3EpPY"
      },
      "outputs": [],
      "source": [
        "time_str = float(sum(times))\n",
        "print('total waktu {:.3f} s'.format(time_str))\n",
        "# print(time_str)"
      ]
    },
    {
      "cell_type": "markdown",
      "metadata": {
        "id": "QAkj5dR4kmL5"
      },
      "source": [
        "###menampilkan grafik akurasi menggunakan matplotlib"
      ]
    },
    {
      "cell_type": "code",
      "execution_count": null,
      "metadata": {
        "colab": {
          "background_save": true
        },
        "id": "4U7XlTCEFc8n"
      },
      "outputs": [],
      "source": [
        "plt.plot(train_accuracy, label='train')\n",
        "plt.title('accuracy')\n",
        "plt.ylabel('accuracy'); plt.xlabel('epoch')\n",
        "plt.plot(val_acc, label='val')\n",
        "plt.legend()\n",
        "plt.show()"
      ]
    },
    {
      "cell_type": "markdown",
      "metadata": {
        "id": "lTXm5eqck0Rd"
      },
      "source": [
        "###menampilkan grafik loss menggunakan matplotlib"
      ]
    },
    {
      "cell_type": "code",
      "execution_count": null,
      "metadata": {
        "colab": {
          "background_save": true
        },
        "id": "GiOe-PM8Fc8p"
      },
      "outputs": [],
      "source": [
        "plt.plot(train_losses, label='train')\n",
        "plt.plot(val_losses, label='val')\n",
        "plt.title('loss')\n",
        "plt.ylabel('loss'); plt.xlabel('epoch')\n",
        "plt.legend()\n",
        "plt.show()"
      ]
    },
    {
      "cell_type": "markdown",
      "metadata": {
        "id": "jqgirKVrlMwj"
      },
      "source": [
        "###proses pengujian data"
      ]
    },
    {
      "cell_type": "code",
      "execution_count": null,
      "metadata": {
        "colab": {
          "background_save": true
        },
        "id": "CxIGPw2vFc8r"
      },
      "outputs": [],
      "source": [
        "test_set = Penyakit(X_test, y_test, IMAGE, transform=val_transform)\n",
        "\n",
        "def predict(model, img, label):\n",
        "    model.eval()\n",
        "    with torch.no_grad():\n",
        "        img = img.unsqueeze(0).to(device)\n",
        "        output = model(img)\n",
        "        pred = torch.argmax(F.softmax(output, dim=1)).cpu().item()\n",
        "    return pred\n",
        "\n",
        "test_predict = []\n",
        "true_label = []\n",
        "for i in range(len(test_set)):\n",
        "    img, label = test_set[i]\n",
        "    prediction = predict(model, img, label)\n",
        "    test_predict.append(prediction)\n",
        "    true_label.append(label)"
      ]
    },
    {
      "cell_type": "markdown",
      "metadata": {
        "id": "en0a9j9-le4Y"
      },
      "source": [
        "###menampilkan hasil pengujian data secara acak"
      ]
    },
    {
      "cell_type": "code",
      "execution_count": null,
      "metadata": {
        "colab": {
          "background_save": true
        },
        "id": "zX3VYAESFc8u"
      },
      "outputs": [],
      "source": [
        "ints_2_label = {0: 'cataract',\n",
        "                1: 'diabetic_retinopathy',\n",
        "                2: 'glaucoma',\n",
        "                3: 'normal'}\n",
        "\n",
        "random_selection = np.random.randint(0, len(test_predict), 20)\n",
        "\n",
        "fig = plt.figure(figsize=(20, 10))\n",
        "\n",
        "test_set = Penyakit(X_test, y_test, IMAGE, transform=T.Resize((124,124)))\n",
        "for i, idx in enumerate(random_selection):\n",
        "    image, label = test_set[idx]\n",
        "    ax = fig.add_subplot(5, 4, i+1, xticks=[], yticks = [])\n",
        "    ax.imshow(image)\n",
        "    ax.set_title('True:{}\\nPredict:{}'.format(ints_2_label[label], ints_2_label[test_predict[idx]]),\n",
        "                color=(\"green\" if label == test_predict[idx] else 'red'), fontsize=16)\n",
        "\n",
        "plt.tight_layout() #want faster comment or delete this\n",
        "plt.show()"
      ]
    },
    {
      "cell_type": "code",
      "execution_count": null,
      "metadata": {
        "colab": {
          "background_save": true
        },
        "id": "OsIJF51yEwPN"
      },
      "outputs": [],
      "source": [
        "plt.figure(figsize=(10,8))\n",
        "sns.set(font_scale=1.5) # Adjust to fit\n",
        "sns.heatmap(confusion_matrix(true_label, test_predict), annot=True, fmt='d', cmap='GnBu', cbar=False)\n",
        "plt.tick_params(axis='both', which='major', labelsize=15)  # Adjust to fit\n",
        "\n",
        "plt.xticks(ticks=np.arange(0.5, len(list(TARGET_LABEL.keys()))), labels = list(TARGET_LABEL.keys()))\n",
        "plt.yticks(ticks=np.arange(0.5, len(list(TARGET_LABEL.keys()))), labels = list(TARGET_LABEL.keys()))\n",
        "plt.show()"
      ]
    },
    {
      "cell_type": "code",
      "execution_count": null,
      "metadata": {
        "colab": {
          "background_save": true
        },
        "id": "RjSDMSXIVSVy"
      },
      "outputs": [],
      "source": [
        "print(classification_report(true_label, test_predict))"
      ]
    }
  ],
  "metadata": {
    "colab": {
      "provenance": []
    },
    "kernelspec": {
      "display_name": "Python 3 (ipykernel)",
      "language": "python",
      "name": "python3"
    },
    "language_info": {
      "codemirror_mode": {
        "name": "ipython",
        "version": 3
      },
      "file_extension": ".py",
      "mimetype": "text/x-python",
      "name": "python",
      "nbconvert_exporter": "python",
      "pygments_lexer": "ipython3",
      "version": "3.7.0"
    }
  },
  "nbformat": 4,
  "nbformat_minor": 0
}